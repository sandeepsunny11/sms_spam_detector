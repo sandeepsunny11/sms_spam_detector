{
 "cells": [
  {
   "cell_type": "code",
   "execution_count": 1,
   "metadata": {
    "colab": {
     "base_uri": "https://localhost:8080/"
    },
    "id": "XPhrnRlNlVOB",
    "outputId": "ffe3bf58-c94f-451e-d188-549a43879f68"
   },
   "outputs": [
    {
     "name": "stdout",
     "output_type": "stream",
     "text": [
      "Requirement already satisfied: gradio==5.6.0 in c:\\users\\sandeep\\anaconda3\\lib\\site-packages (5.6.0)\n",
      "Requirement already satisfied: aiofiles<24.0,>=22.0 in c:\\users\\sandeep\\anaconda3\\lib\\site-packages (from gradio==5.6.0) (23.2.1)\n",
      "Requirement already satisfied: anyio<5.0,>=3.0 in c:\\users\\sandeep\\anaconda3\\lib\\site-packages (from gradio==5.6.0) (4.2.0)\n",
      "Requirement already satisfied: fastapi<1.0,>=0.115.2 in c:\\users\\sandeep\\anaconda3\\lib\\site-packages (from gradio==5.6.0) (0.115.5)\n",
      "Requirement already satisfied: ffmpy in c:\\users\\sandeep\\anaconda3\\lib\\site-packages (from gradio==5.6.0) (0.4.0)\n",
      "Requirement already satisfied: gradio-client==1.4.3 in c:\\users\\sandeep\\anaconda3\\lib\\site-packages (from gradio==5.6.0) (1.4.3)\n",
      "Requirement already satisfied: httpx>=0.24.1 in c:\\users\\sandeep\\anaconda3\\lib\\site-packages (from gradio==5.6.0) (0.27.2)\n",
      "Requirement already satisfied: huggingface-hub>=0.25.1 in c:\\users\\sandeep\\anaconda3\\lib\\site-packages (from gradio==5.6.0) (0.26.2)\n",
      "Requirement already satisfied: jinja2<4.0 in c:\\users\\sandeep\\anaconda3\\lib\\site-packages (from gradio==5.6.0) (3.1.4)\n",
      "Requirement already satisfied: markupsafe~=2.0 in c:\\users\\sandeep\\anaconda3\\lib\\site-packages (from gradio==5.6.0) (2.1.3)\n",
      "Requirement already satisfied: numpy<3.0,>=1.0 in c:\\users\\sandeep\\anaconda3\\lib\\site-packages (from gradio==5.6.0) (1.26.4)\n",
      "Requirement already satisfied: orjson~=3.0 in c:\\users\\sandeep\\anaconda3\\lib\\site-packages (from gradio==5.6.0) (3.10.12)\n",
      "Requirement already satisfied: packaging in c:\\users\\sandeep\\anaconda3\\lib\\site-packages (from gradio==5.6.0) (23.2)\n",
      "Requirement already satisfied: pandas<3.0,>=1.0 in c:\\users\\sandeep\\anaconda3\\lib\\site-packages (from gradio==5.6.0) (2.2.2)\n",
      "Requirement already satisfied: pillow<12.0,>=8.0 in c:\\users\\sandeep\\anaconda3\\lib\\site-packages (from gradio==5.6.0) (10.3.0)\n",
      "Requirement already satisfied: pydantic>=2.0 in c:\\users\\sandeep\\anaconda3\\lib\\site-packages (from gradio==5.6.0) (2.5.3)\n",
      "Requirement already satisfied: pydub in c:\\users\\sandeep\\anaconda3\\lib\\site-packages (from gradio==5.6.0) (0.25.1)\n",
      "Requirement already satisfied: python-multipart==0.0.12 in c:\\users\\sandeep\\anaconda3\\lib\\site-packages (from gradio==5.6.0) (0.0.12)\n",
      "Requirement already satisfied: pyyaml<7.0,>=5.0 in c:\\users\\sandeep\\anaconda3\\lib\\site-packages (from gradio==5.6.0) (6.0.1)\n",
      "Requirement already satisfied: ruff>=0.2.2 in c:\\users\\sandeep\\anaconda3\\lib\\site-packages (from gradio==5.6.0) (0.8.0)\n",
      "Requirement already satisfied: safehttpx<1.0,>=0.1.1 in c:\\users\\sandeep\\anaconda3\\lib\\site-packages (from gradio==5.6.0) (0.1.1)\n",
      "Requirement already satisfied: semantic-version~=2.0 in c:\\users\\sandeep\\anaconda3\\lib\\site-packages (from gradio==5.6.0) (2.10.0)\n",
      "Requirement already satisfied: starlette<1.0,>=0.40.0 in c:\\users\\sandeep\\anaconda3\\lib\\site-packages (from gradio==5.6.0) (0.41.3)\n",
      "Requirement already satisfied: tomlkit==0.12.0 in c:\\users\\sandeep\\anaconda3\\lib\\site-packages (from gradio==5.6.0) (0.12.0)\n",
      "Requirement already satisfied: typer<1.0,>=0.12 in c:\\users\\sandeep\\anaconda3\\lib\\site-packages (from gradio==5.6.0) (0.13.1)\n",
      "Requirement already satisfied: typing-extensions~=4.0 in c:\\users\\sandeep\\anaconda3\\lib\\site-packages (from gradio==5.6.0) (4.11.0)\n",
      "Requirement already satisfied: uvicorn>=0.14.0 in c:\\users\\sandeep\\anaconda3\\lib\\site-packages (from gradio==5.6.0) (0.32.1)\n",
      "Requirement already satisfied: fsspec in c:\\users\\sandeep\\anaconda3\\lib\\site-packages (from gradio-client==1.4.3->gradio==5.6.0) (2024.3.1)\n",
      "Requirement already satisfied: websockets<13.0,>=10.0 in c:\\users\\sandeep\\anaconda3\\lib\\site-packages (from gradio-client==1.4.3->gradio==5.6.0) (12.0)\n",
      "Requirement already satisfied: idna>=2.8 in c:\\users\\sandeep\\anaconda3\\lib\\site-packages (from anyio<5.0,>=3.0->gradio==5.6.0) (3.7)\n",
      "Requirement already satisfied: sniffio>=1.1 in c:\\users\\sandeep\\anaconda3\\lib\\site-packages (from anyio<5.0,>=3.0->gradio==5.6.0) (1.3.0)\n",
      "Requirement already satisfied: certifi in c:\\users\\sandeep\\anaconda3\\lib\\site-packages (from httpx>=0.24.1->gradio==5.6.0) (2024.6.2)\n",
      "Requirement already satisfied: httpcore==1.* in c:\\users\\sandeep\\anaconda3\\lib\\site-packages (from httpx>=0.24.1->gradio==5.6.0) (1.0.7)\n",
      "Requirement already satisfied: h11<0.15,>=0.13 in c:\\users\\sandeep\\anaconda3\\lib\\site-packages (from httpcore==1.*->httpx>=0.24.1->gradio==5.6.0) (0.14.0)\n",
      "Requirement already satisfied: filelock in c:\\users\\sandeep\\anaconda3\\lib\\site-packages (from huggingface-hub>=0.25.1->gradio==5.6.0) (3.13.1)\n",
      "Requirement already satisfied: requests in c:\\users\\sandeep\\anaconda3\\lib\\site-packages (from huggingface-hub>=0.25.1->gradio==5.6.0) (2.32.2)\n",
      "Requirement already satisfied: tqdm>=4.42.1 in c:\\users\\sandeep\\anaconda3\\lib\\site-packages (from huggingface-hub>=0.25.1->gradio==5.6.0) (4.66.4)\n",
      "Requirement already satisfied: python-dateutil>=2.8.2 in c:\\users\\sandeep\\anaconda3\\lib\\site-packages (from pandas<3.0,>=1.0->gradio==5.6.0) (2.9.0.post0)\n",
      "Requirement already satisfied: pytz>=2020.1 in c:\\users\\sandeep\\anaconda3\\lib\\site-packages (from pandas<3.0,>=1.0->gradio==5.6.0) (2024.1)\n",
      "Requirement already satisfied: tzdata>=2022.7 in c:\\users\\sandeep\\anaconda3\\lib\\site-packages (from pandas<3.0,>=1.0->gradio==5.6.0) (2023.3)\n",
      "Requirement already satisfied: annotated-types>=0.4.0 in c:\\users\\sandeep\\anaconda3\\lib\\site-packages (from pydantic>=2.0->gradio==5.6.0) (0.6.0)\n",
      "Requirement already satisfied: pydantic-core==2.14.6 in c:\\users\\sandeep\\anaconda3\\lib\\site-packages (from pydantic>=2.0->gradio==5.6.0) (2.14.6)\n",
      "Requirement already satisfied: click>=8.0.0 in c:\\users\\sandeep\\anaconda3\\lib\\site-packages (from typer<1.0,>=0.12->gradio==5.6.0) (8.1.7)\n",
      "Requirement already satisfied: shellingham>=1.3.0 in c:\\users\\sandeep\\anaconda3\\lib\\site-packages (from typer<1.0,>=0.12->gradio==5.6.0) (1.5.4)\n",
      "Requirement already satisfied: rich>=10.11.0 in c:\\users\\sandeep\\anaconda3\\lib\\site-packages (from typer<1.0,>=0.12->gradio==5.6.0) (13.3.5)\n",
      "Requirement already satisfied: colorama in c:\\users\\sandeep\\anaconda3\\lib\\site-packages (from click>=8.0.0->typer<1.0,>=0.12->gradio==5.6.0) (0.4.6)\n",
      "Requirement already satisfied: six>=1.5 in c:\\users\\sandeep\\anaconda3\\lib\\site-packages (from python-dateutil>=2.8.2->pandas<3.0,>=1.0->gradio==5.6.0) (1.16.0)\n",
      "Requirement already satisfied: markdown-it-py<3.0.0,>=2.2.0 in c:\\users\\sandeep\\anaconda3\\lib\\site-packages (from rich>=10.11.0->typer<1.0,>=0.12->gradio==5.6.0) (2.2.0)\n",
      "Requirement already satisfied: pygments<3.0.0,>=2.13.0 in c:\\users\\sandeep\\anaconda3\\lib\\site-packages (from rich>=10.11.0->typer<1.0,>=0.12->gradio==5.6.0) (2.15.1)\n",
      "Requirement already satisfied: charset-normalizer<4,>=2 in c:\\users\\sandeep\\anaconda3\\lib\\site-packages (from requests->huggingface-hub>=0.25.1->gradio==5.6.0) (2.0.4)\n",
      "Requirement already satisfied: urllib3<3,>=1.21.1 in c:\\users\\sandeep\\anaconda3\\lib\\site-packages (from requests->huggingface-hub>=0.25.1->gradio==5.6.0) (2.2.2)\n",
      "Requirement already satisfied: mdurl~=0.1 in c:\\users\\sandeep\\anaconda3\\lib\\site-packages (from markdown-it-py<3.0.0,>=2.2.0->rich>=10.11.0->typer<1.0,>=0.12->gradio==5.6.0) (0.1.0)\n"
     ]
    }
   ],
   "source": [
    "!pip install gradio==5.6.0"
   ]
  },
  {
   "cell_type": "code",
   "execution_count": 8,
   "metadata": {
    "id": "Vszsb4hvn85C"
   },
   "outputs": [],
   "source": [
    "# Import pandas\n",
    "import pandas as pd\n",
    "# Import the required dependencies from sklearn\n",
    "from sklearn.model_selection import train_test_split\n",
    "from sklearn.pipeline import Pipeline\n",
    "from sklearn.feature_extraction.text import TfidfVectorizer\n",
    "from sklearn.svm import LinearSVC\n",
    "\n",
    "# Set the column width to view the text message data.\n",
    "pd.set_option('max_colwidth', 200)\n",
    "\n",
    "# Import Gradio\n",
    "import gradio as gr"
   ]
  },
  {
   "cell_type": "code",
   "execution_count": 9,
   "metadata": {
    "id": "x2t0bN35k45s"
   },
   "outputs": [],
   "source": [
    "def sms_classification(sms_text_df):\n",
    "    \"\"\"\n",
    "    Perform SMS classification using a pipeline with TF-IDF vectorization and Linear Support Vector Classification.\n",
    "\n",
    "    Parameters:\n",
    "    - sms_text_df (pd.DataFrame): DataFrame containing 'text_message' and 'label' columns for SMS classification.\n",
    "\n",
    "    Returns:\n",
    "    - text_clf (Pipeline): Fitted pipeline model for SMS classification.\n",
    "\n",
    "    This function takes a DataFrame with 'text_message' and 'label' columns, splits the data into\n",
    "    training and testing sets, builds a pipeline with TF-IDF vectorization and Linear Support Vector\n",
    "    Classification, and fits the model to the training data.\n",
    "    The fitted pipeline is returned to make future predictions.\n",
    "    \"\"\"\n",
    "    # Set the features variable to the text message column.\n",
    "    X = sms_text_df[\"text_message\"]\n",
    "\n",
    "    # Set the target variable to the \"label\" column.\n",
    "    y = sms_text_df[\"label\"]\n",
    "\n",
    "    # Split data into training and testing and set the test_size = 33%\n",
    "    X_train, X_test, y_train, y_test = train_test_split(X, y, test_size=0.33, random_state=42, stratify=y)\n",
    "\n",
    "\n",
    "    # Build a pipeline to transform the test set to compare to the training set.\n",
    "    text_clf = Pipeline([\n",
    "        ('tfidf', TfidfVectorizer()),\n",
    "        ('clf', LinearSVC())\n",
    "    ])\n",
    "\n",
    "    # Fit the model to the transformed training data and return model.\n",
    "    model = text_clf.fit(X_train, y_train)\n",
    "    return model"
   ]
  },
  {
   "cell_type": "code",
   "execution_count": 11,
   "metadata": {
    "colab": {
     "base_uri": "https://localhost:8080/",
     "height": 206
    },
    "id": "MkLsd5Ihk45v",
    "outputId": "6fd5368b-2632-488a-ce65-a9bb40bff2ce"
   },
   "outputs": [
    {
     "data": {
      "text/html": [
       "<div>\n",
       "<style scoped>\n",
       "    .dataframe tbody tr th:only-of-type {\n",
       "        vertical-align: middle;\n",
       "    }\n",
       "\n",
       "    .dataframe tbody tr th {\n",
       "        vertical-align: top;\n",
       "    }\n",
       "\n",
       "    .dataframe thead th {\n",
       "        text-align: right;\n",
       "    }\n",
       "</style>\n",
       "<table border=\"1\" class=\"dataframe\">\n",
       "  <thead>\n",
       "    <tr style=\"text-align: right;\">\n",
       "      <th></th>\n",
       "      <th>label</th>\n",
       "      <th>text_message</th>\n",
       "    </tr>\n",
       "  </thead>\n",
       "  <tbody>\n",
       "    <tr>\n",
       "      <th>0</th>\n",
       "      <td>ham</td>\n",
       "      <td>Go until jurong point, crazy.. Available only in bugis n great world la e buffet... Cine there got amore wat...</td>\n",
       "    </tr>\n",
       "    <tr>\n",
       "      <th>1</th>\n",
       "      <td>ham</td>\n",
       "      <td>Ok lar... Joking wif u oni...</td>\n",
       "    </tr>\n",
       "    <tr>\n",
       "      <th>2</th>\n",
       "      <td>spam</td>\n",
       "      <td>Free entry in 2 a wkly comp to win FA Cup final tkts 21st May 2005. Text FA to 87121 to receive entry question(std txt rate)T&amp;C's apply 08452810075over18's</td>\n",
       "    </tr>\n",
       "    <tr>\n",
       "      <th>3</th>\n",
       "      <td>ham</td>\n",
       "      <td>U dun say so early hor... U c already then say...</td>\n",
       "    </tr>\n",
       "    <tr>\n",
       "      <th>4</th>\n",
       "      <td>ham</td>\n",
       "      <td>Nah I don't think he goes to usf, he lives around here though</td>\n",
       "    </tr>\n",
       "  </tbody>\n",
       "</table>\n",
       "</div>"
      ],
      "text/plain": [
       "  label  \\\n",
       "0   ham   \n",
       "1   ham   \n",
       "2  spam   \n",
       "3   ham   \n",
       "4   ham   \n",
       "\n",
       "                                                                                                                                                  text_message  \n",
       "0                                              Go until jurong point, crazy.. Available only in bugis n great world la e buffet... Cine there got amore wat...  \n",
       "1                                                                                                                                Ok lar... Joking wif u oni...  \n",
       "2  Free entry in 2 a wkly comp to win FA Cup final tkts 21st May 2005. Text FA to 87121 to receive entry question(std txt rate)T&C's apply 08452810075over18's  \n",
       "3                                                                                                            U dun say so early hor... U c already then say...  \n",
       "4                                                                                                Nah I don't think he goes to usf, he lives around here though  "
      ]
     },
     "execution_count": 11,
     "metadata": {},
     "output_type": "execute_result"
    }
   ],
   "source": [
    "# Load the dataset into a DataFrame\n",
    "sms_text_df = pd.read_csv('./SMSSpamCollection.csv')\n",
    "sms_text_df.head()\n"
   ]
  },
  {
   "cell_type": "code",
   "execution_count": 12,
   "metadata": {
    "id": "b20i6OvXk45x"
   },
   "outputs": [
    {
     "name": "stderr",
     "output_type": "stream",
     "text": [
      "C:\\Users\\Sandeep\\anaconda3\\Lib\\site-packages\\sklearn\\svm\\_classes.py:31: FutureWarning: The default value of `dual` will change from `True` to `'auto'` in 1.5. Set the value of `dual` explicitly to suppress the warning.\n",
      "  warnings.warn(\n"
     ]
    }
   ],
   "source": [
    "# Call the sms_classification function with the DataFrame and set the result to the \"text_clf\" variable\n",
    "text_clf = sms_classification(sms_text_df)"
   ]
  },
  {
   "cell_type": "code",
   "execution_count": 13,
   "metadata": {
    "id": "MT3bwi4Mk451"
   },
   "outputs": [],
   "source": [
    "# Create a function called `sms_prediction` that takes in the SMS text and predicts the whether the text is \"not spam\" or \"spam\".\n",
    "# The function should return the SMS message, and say whether the text is \"not spam\" or \"spam\".\n",
    "def sms_prediction(text):\n",
    "    \"\"\"\n",
    "    Predict the spam/ham classification of a given text message using a pre-trained model.\n",
    "\n",
    "    Parameters:\n",
    "    - text (str): The text message to be classified.\n",
    "\n",
    "    Returns:\n",
    "    - str: A message indicating whether the text message is classified as spam or not.\n",
    "\n",
    "    This function takes a text message and a pre-trained pipeline model, then predicts the\n",
    "    spam/ham classification of the text. The result is a message stating whether the text is\n",
    "    classified as spam or not.\n",
    "    \"\"\"\n",
    "    # Create a variable that will hold the prediction of a new text.\n",
    "    prediction = text_clf.predict([text])[0]\n",
    "\n",
    "    # Using a conditional if the prediction is \"ham\" return the message:\n",
    "    # f'The text message: \"{text}\", is not spam.' Else, return f'The text message: \"{text}\", is spam.'\n",
    "    if prediction == \"ham\":\n",
    "        return f'The text message: \"{text}\", is not spam.'\n",
    "    else:\n",
    "        return f'The text message: \"{text}\", is spam.'"
   ]
  },
  {
   "cell_type": "code",
   "execution_count": 14,
   "metadata": {
    "colab": {
     "base_uri": "https://localhost:8080/",
     "height": 646
    },
    "id": "DWAKu1VAk452",
    "outputId": "36373064-438b-48f1-9e21-c2c443433960"
   },
   "outputs": [
    {
     "name": "stdout",
     "output_type": "stream",
     "text": [
      "* Running on local URL:  http://127.0.0.1:7860\n",
      "\n",
      "To create a public link, set `share=True` in `launch()`.\n"
     ]
    },
    {
     "data": {
      "text/html": [
       "<div><iframe src=\"http://127.0.0.1:7860/\" width=\"100%\" height=\"500\" allow=\"autoplay; camera; microphone; clipboard-read; clipboard-write;\" frameborder=\"0\" allowfullscreen></iframe></div>"
      ],
      "text/plain": [
       "<IPython.core.display.HTML object>"
      ]
     },
     "metadata": {},
     "output_type": "display_data"
    },
    {
     "data": {
      "text/plain": []
     },
     "execution_count": 14,
     "metadata": {},
     "output_type": "execute_result"
    }
   ],
   "source": [
    "# Create a sms_app that takes a textbox for the inputs and has a textbox for the output.\n",
    "# Povide labels for each textbox.\n",
    "\n",
    "\n",
    "def classify_sms(text):\n",
    "    return sms_prediction(text)\n",
    "\n",
    "\n",
    "sms_app = gr.Interface(\n",
    "    fn=classify_sms,\n",
    "    inputs=gr.Textbox(label=\"Enter your SMS message:\"),\n",
    "    outputs=gr.Textbox(label=\"Classification Result:\"),\n",
    "    title=\"SMS Spam Classifier\",\n",
    "    description=\"Enter an SMS message to determine whether it's spam or not.\"\n",
    ")\n",
    "\n",
    "# Launch the app\n",
    "sms_app.launch()\n"
   ]
  },
  {
   "cell_type": "markdown",
   "metadata": {
    "id": "tSo506pJk453"
   },
   "source": [
    "## Test the following text messages.\n",
    "\n",
    "---\n",
    "\n",
    "1. You are a lucky winner of $5000!\n",
    "2. You won 2 free tickets to the Super Bowl.\n",
    "3. You won 2 free tickets to the Super Bowl text us to claim your prize.\n",
    "4. Thanks for registering. Text 4343 to receive free updates on medicare."
   ]
  },
  {
   "cell_type": "code",
   "execution_count": 15,
   "metadata": {
    "colab": {
     "base_uri": "https://localhost:8080/",
     "height": 36
    },
    "id": "bY6X1KLuk455",
    "outputId": "7565921f-208e-4ee0-fd4f-218273fff7e8"
   },
   "outputs": [
    {
     "data": {
      "text/plain": [
       "'The text message: \"You are a lucky winner of $5000!\", is not spam.'"
      ]
     },
     "execution_count": 15,
     "metadata": {},
     "output_type": "execute_result"
    }
   ],
   "source": [
    "sms_prediction(\"You are a lucky winner of $5000!\")"
   ]
  },
  {
   "cell_type": "code",
   "execution_count": 16,
   "metadata": {
    "colab": {
     "base_uri": "https://localhost:8080/",
     "height": 36
    },
    "id": "7UOwdUrWnXdi",
    "outputId": "db42077f-529f-4083-ce9d-4c2b206555bd"
   },
   "outputs": [
    {
     "data": {
      "text/plain": [
       "'The text message: \"You won 2 free tickets to the Super Bowl.\", is not spam.'"
      ]
     },
     "execution_count": 16,
     "metadata": {},
     "output_type": "execute_result"
    }
   ],
   "source": [
    "sms_prediction(\"You won 2 free tickets to the Super Bowl.\")"
   ]
  },
  {
   "cell_type": "code",
   "execution_count": 17,
   "metadata": {
    "colab": {
     "base_uri": "https://localhost:8080/",
     "height": 36
    },
    "id": "m5yMDTOFnZs5",
    "outputId": "44789072-ae5d-44f7-d047-bf0bb97e5cc1"
   },
   "outputs": [
    {
     "data": {
      "text/plain": [
       "'The text message: \"You won 2 free tickets to the Super Bowl text us to claim your prize.\", is spam.'"
      ]
     },
     "execution_count": 17,
     "metadata": {},
     "output_type": "execute_result"
    }
   ],
   "source": [
    "sms_prediction(\"You won 2 free tickets to the Super Bowl text us to claim your prize.\")"
   ]
  },
  {
   "cell_type": "code",
   "execution_count": 18,
   "metadata": {
    "colab": {
     "base_uri": "https://localhost:8080/",
     "height": 36
    },
    "id": "mEPCCIAuncuo",
    "outputId": "033904bf-1850-466b-a5a7-ae0bc5c89776"
   },
   "outputs": [
    {
     "data": {
      "text/plain": [
       "'The text message: \"Thanks for registering. Text 4343 to receive free updates on medicare.\", is spam.'"
      ]
     },
     "execution_count": 18,
     "metadata": {},
     "output_type": "execute_result"
    }
   ],
   "source": [
    "sms_prediction(\"Thanks for registering. Text 4343 to receive free updates on medicare.\")"
   ]
  }
 ],
 "metadata": {
  "colab": {
   "provenance": []
  },
  "kernelspec": {
   "display_name": "Python 3 (ipykernel)",
   "language": "python",
   "name": "python3"
  },
  "language_info": {
   "codemirror_mode": {
    "name": "ipython",
    "version": 3
   },
   "file_extension": ".py",
   "mimetype": "text/x-python",
   "name": "python",
   "nbconvert_exporter": "python",
   "pygments_lexer": "ipython3",
   "version": "3.12.4"
  }
 },
 "nbformat": 4,
 "nbformat_minor": 4
}
